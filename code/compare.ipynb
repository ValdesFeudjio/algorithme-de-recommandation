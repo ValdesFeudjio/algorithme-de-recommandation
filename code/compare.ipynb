{
 "cells": [
  {
   "cell_type": "markdown",
   "metadata": {
    "cell_marker": "\"\"\""
   },
   "source": [
    "# Évaluation qualitative\n",
    "> Comparons les différents algorithmes en terme de qualité de prédiction et de temps de calcul"
   ]
  },
  {
   "cell_type": "markdown",
   "metadata": {
    "cell_marker": "\"\"\""
   },
   "source": [
    "# Comparaison entre algorithmes\n",
    "\n",
    "Charger les bibliothèques et les données"
   ]
  },
  {
   "cell_type": "code",
   "execution_count": 22,
   "metadata": {
    "lines_to_next_cell": 2
   },
   "outputs": [
    {
     "data": {
      "application/javascript": "IPython.notebook.set_autosave_interval(0)"
     },
     "metadata": {},
     "output_type": "display_data"
    },
    {
     "name": "stdout",
     "output_type": "stream",
     "text": [
      "Autosave disabled\n"
     ]
    }
   ],
   "source": [
    "%autosave 0\n",
    "%reload_ext autoreload\n",
    "%autoreload 2\n",
    "\n",
    "from data import *\n",
    "import popularity\n",
    "import knn\n",
    "import svd\n",
    "from data import *\n",
    "#import als\n",
    "\n",
    "from eval import *"
   ]
  },
  {
   "cell_type": "code",
   "execution_count": 25,
   "metadata": {},
   "outputs": [],
   "source": [
    "import sys\n",
    "sys.path\n",
    "import data"
   ]
  },
  {
   "cell_type": "code",
   "execution_count": 26,
   "metadata": {},
   "outputs": [
    {
     "data": {
      "text/plain": [
       "((500, 400), np.int64(31553))"
      ]
     },
     "execution_count": 26,
     "metadata": {},
     "output_type": "execute_result"
    }
   ],
   "source": [
    "M = load_data(tiny=False)\n",
    "M.shape, np.sum(~np.isnan(M))"
   ]
  },
  {
   "cell_type": "markdown",
   "metadata": {
    "cell_marker": "\"\"\""
   },
   "source": [
    "Liste d'algorithmes à comparer"
   ]
  },
  {
   "cell_type": "code",
   "execution_count": null,
   "metadata": {
    "lines_to_next_cell": 2
   },
   "outputs": [],
   "source": [
    "recommenders = [\n",
    "    {\"fn\": popularity.complete, \"label\": \"popularity\"},\n",
    "    {\"fn\": lambda M_train: knn.complete(M_train, k=10), \"label\": \"knn10\"},\n",
    "    {\"fn\": lambda M_train: svd.complete(M_train, k=10), \"label\": \"svd0_10\"},\n",
    "    {\"fn\": lambda M_train: svd.complete(M_train, k=20), \"label\": \"svd0_20\"},\n",
    "#    {\"fn\": lambda M_train: svd.complete(M_train, k=10, replaceNA_fn=replaceNA_with_mean), \"label\": \"svdMean_10\"},\n",
    "#    {\"fn\": lambda M_train: svd.complete(M_train, k=20, replaceNA_fn=replaceNA_with_mean), \"label\": \"svdMean_20\"},\n",
    "#    {\"fn\": lambda M_train: als.complete(M_train, k=10, lambd=10**-1, n_iter=5), \"label\": \"als10\"},\n",
    "#    {\"fn\": lambda M_train: als.complete(M_train, k=40, lambd=10**-1, n_iter=5), \"label\": \"als40\"},\n",
    "#    {\"fn\": lambda M_train: complete_softImpute(M_train, lambd=10**+1, n_iter=20), \"label\": \"softImpute10\"},\n",
    "#    {\"fn\": lambda M_train: complete_softImpute(M_train, lambd=10**0, n_iter=20), \"label\": \"softImpute1\"},\n",
    "#    {\"fn\": lambda M_train: complete_softImpute(M_train, lambd=10**-1, n_iter=20), \"label\": \"softImpute0_1\"},\n",
    "    ]\n",
    "\n",
    "recommenders  "
   ]
  },
  {
   "cell_type": "markdown",
   "metadata": {
    "cell_marker": "\"\"\""
   },
   "source": [
    "Comparaison"
   ]
  },
  {
   "cell_type": "code",
   "execution_count": 28,
   "metadata": {},
   "outputs": [
    {
     "name": "stderr",
     "output_type": "stream",
     "text": [
      "f:\\valdes\\school\\3- ENSAI\\Ecole\\systemes de recommandation\\projet_tp\\code\\popularity.py:31: RuntimeWarning: Mean of empty slice\n",
      "  scores = np.nanmean(M_train, axis=0)\n"
     ]
    },
    {
     "data": {
      "text/html": [
       "<div>\n",
       "<style scoped>\n",
       "    .dataframe tbody tr th:only-of-type {\n",
       "        vertical-align: middle;\n",
       "    }\n",
       "\n",
       "    .dataframe tbody tr th {\n",
       "        vertical-align: top;\n",
       "    }\n",
       "\n",
       "    .dataframe thead th {\n",
       "        text-align: right;\n",
       "    }\n",
       "</style>\n",
       "<table border=\"1\" class=\"dataframe\">\n",
       "  <thead>\n",
       "    <tr style=\"text-align: right;\">\n",
       "      <th></th>\n",
       "      <th>recommender</th>\n",
       "      <th>validation score</th>\n",
       "      <th>training score</th>\n",
       "      <th>computation time</th>\n",
       "    </tr>\n",
       "  </thead>\n",
       "  <tbody>\n",
       "    <tr>\n",
       "      <th>0</th>\n",
       "      <td>popularity</td>\n",
       "      <td>1.013314</td>\n",
       "      <td>0.000000</td>\n",
       "      <td>0.005133</td>\n",
       "    </tr>\n",
       "    <tr>\n",
       "      <th>1</th>\n",
       "      <td>knn10</td>\n",
       "      <td>0.990497</td>\n",
       "      <td>0.000000</td>\n",
       "      <td>405.983597</td>\n",
       "    </tr>\n",
       "    <tr>\n",
       "      <th>2</th>\n",
       "      <td>svd0_10</td>\n",
       "      <td>3.825563</td>\n",
       "      <td>3.828026</td>\n",
       "      <td>0.000000</td>\n",
       "    </tr>\n",
       "    <tr>\n",
       "      <th>3</th>\n",
       "      <td>svd0_20</td>\n",
       "      <td>3.825563</td>\n",
       "      <td>3.828026</td>\n",
       "      <td>0.000000</td>\n",
       "    </tr>\n",
       "  </tbody>\n",
       "</table>\n",
       "</div>"
      ],
      "text/plain": [
       "  recommender  validation score  training score  computation time\n",
       "0  popularity          1.013314        0.000000          0.005133\n",
       "1       knn10          0.990497        0.000000        405.983597\n",
       "2     svd0_10          3.825563        3.828026          0.000000\n",
       "3     svd0_20          3.825563        3.828026          0.000000"
      ]
     },
     "execution_count": 28,
     "metadata": {},
     "output_type": "execute_result"
    }
   ],
   "source": [
    "quantitative_comparison(RMSE, M, recommenders, prop=0.8, nrep=3)"
   ]
  },
  {
   "cell_type": "markdown",
   "metadata": {
    "cell_marker": "\"\"\""
   },
   "source": [
    "# Paramétrage de méthode basée sur SVD\n",
    "\n",
    "Charger les bibliothèques et les données"
   ]
  },
  {
   "cell_type": "code",
   "execution_count": null,
   "metadata": {},
   "outputs": [],
   "source": [
    "M = load_data(tiny=False)\n",
    "M.shape, np.sum(~np.isnan(M))"
   ]
  },
  {
   "cell_type": "markdown",
   "metadata": {
    "cell_marker": "\"\"\""
   },
   "source": [
    "On fait varier $k$. Observe-t-on un phénomène de sur-apprentissage ?"
   ]
  },
  {
   "cell_type": "code",
   "execution_count": null,
   "metadata": {
    "lines_to_next_cell": 2
   },
   "outputs": [],
   "source": [
    "recommenders = [\n",
    "#    {\"fn\": lambda M_train: knn.complete(M_train, k=10), \"label\": \"knn10\"},\n",
    "    {\"fn\": lambda M_train: svd.complete(M_train, k=10), \"label\": \"svd10\"},\n",
    "    {\"fn\": lambda M_train: svd.complete(M_train, k=20), \"label\": \"svd20\"},\n",
    "    {\"fn\": lambda M_train: svd.complete(M_train, k=50), \"label\": \"svd50\"},\n",
    "    {\"fn\": lambda M_train: svd.complete(M_train, k=100), \"label\": \"svd100\"},\n",
    "    {\"fn\": lambda M_train: svd.complete(M_train, k=200), \"label\": \"svd200\"},\n",
    "    {\"fn\": lambda M_train: svd.complete(M_train, k=400), \"label\": \"svd400\"},\n",
    "    ]\n",
    "res_fill_with_zeros = quantitative_comparison(RMSE, M, recommenders, prop=0.8, nrep=4)\n",
    "res_fill_with_zeros"
   ]
  },
  {
   "cell_type": "code",
   "execution_count": null,
   "metadata": {},
   "outputs": [],
   "source": []
  }
 ],
 "metadata": {
  "jupytext": {
   "cell_markers": "\"\"\"",
   "encoding": "# -*- coding: utf-8 -*-",
   "formats": "ipynb,py:percent"
  },
  "kernelspec": {
   "display_name": "Python 3",
   "language": "python",
   "name": "python3"
  },
  "language_info": {
   "codemirror_mode": {
    "name": "ipython",
    "version": 3
   },
   "file_extension": ".py",
   "mimetype": "text/x-python",
   "name": "python",
   "nbconvert_exporter": "python",
   "pygments_lexer": "ipython3",
   "version": "3.12.4"
  }
 },
 "nbformat": 4,
 "nbformat_minor": 4
}
